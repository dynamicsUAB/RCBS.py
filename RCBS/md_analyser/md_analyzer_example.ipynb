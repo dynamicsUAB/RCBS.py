{
 "cells": [
  {
   "cell_type": "code",
   "execution_count": 17,
   "metadata": {},
   "outputs": [],
   "source": [
    "import RCBS\n",
    "from RCBS.selections import selection as selection\n",
    "from RCBS.md_analyser.measurements import *\n",
    "import MDAnalysis as mda"
   ]
  },
  {
   "cell_type": "code",
   "execution_count": 18,
   "metadata": {},
   "outputs": [
    {
     "data": {
      "text/plain": [
       "['C12',\n",
       " 'C15',\n",
       " 'C9',\n",
       " 'FE',\n",
       " 'H12A',\n",
       " 'H12B',\n",
       " 'H15A',\n",
       " 'H15B',\n",
       " 'H9A',\n",
       " 'H9B',\n",
       " 'In',\n",
       " 'NotSingleAtomSelectionError',\n",
       " 'OH1',\n",
       " 'Out',\n",
       " 'RCBS',\n",
       " 'Universe',\n",
       " '_',\n",
       " '_11',\n",
       " '_12',\n",
       " '_2',\n",
       " '_5',\n",
       " '_9',\n",
       " '__',\n",
       " '___',\n",
       " '__builtin__',\n",
       " '__builtins__',\n",
       " '__doc__',\n",
       " '__loader__',\n",
       " '__name__',\n",
       " '__package__',\n",
       " '__spec__',\n",
       " '_dh',\n",
       " '_i',\n",
       " '_i1',\n",
       " '_i10',\n",
       " '_i11',\n",
       " '_i12',\n",
       " '_i13',\n",
       " '_i14',\n",
       " '_i15',\n",
       " '_i16',\n",
       " '_i17',\n",
       " '_i18',\n",
       " '_i2',\n",
       " '_i3',\n",
       " '_i4',\n",
       " '_i5',\n",
       " '_i6',\n",
       " '_i7',\n",
       " '_i8',\n",
       " '_i9',\n",
       " '_ih',\n",
       " '_ii',\n",
       " '_iii',\n",
       " '_oh',\n",
       " 'angle_bool_output',\n",
       " 'dihe_measure',\n",
       " 'dist_WATbridge',\n",
       " 'dist_bool_output',\n",
       " 'dist_measure',\n",
       " 'dist_plane',\n",
       " 'exit',\n",
       " 'get_ipython',\n",
       " 'mda',\n",
       " 'mdadist',\n",
       " 'quit',\n",
       " 'route_to_files',\n",
       " 'selection',\n",
       " 'u']"
      ]
     },
     "execution_count": 18,
     "metadata": {},
     "output_type": "execute_result"
    }
   ],
   "source": [
    "dir()"
   ]
  },
  {
   "cell_type": "markdown",
   "metadata": {},
   "source": [
    "# Step 1\n",
    "\n",
    "Create a MDAnalysis Universe containing the trajectory that is being analyzed."
   ]
  },
  {
   "cell_type": "code",
   "execution_count": 4,
   "metadata": {},
   "outputs": [],
   "source": [
    "route_to_files = '/home/mcanyelles/Calculations/trajectories_finals/DHA_12LOX/'\n",
    "u = mda.Universe(route_to_files + '3rde_A_HXA_solvatat_ion.prmtop', route_to_files + '5_prod_total_autoimage.nc')"
   ]
  },
  {
   "cell_type": "code",
   "execution_count": 5,
   "metadata": {},
   "outputs": [
    {
     "data": {
      "text/plain": [
       "<Universe with 63455 atoms>"
      ]
     },
     "execution_count": 5,
     "metadata": {},
     "output_type": "execute_result"
    }
   ],
   "source": [
    "u"
   ]
  },
  {
   "cell_type": "markdown",
   "metadata": {},
   "source": [
    "# Step 2\n",
    "Define the selections that will be used."
   ]
  },
  {
   "cell_type": "code",
   "execution_count": 20,
   "metadata": {},
   "outputs": [
    {
     "name": "stdout",
     "output_type": "stream",
     "text": [
      "name FE\n",
      "bynum 8787\n",
      "bynum 8814\n",
      "bynum 8815 or bynum 8816\n",
      "bynum 8807\n",
      "bynum 8808 or bynum 8809\n",
      "bynum 8821\n",
      "bynum 8822 or bynum 8823\n"
     ]
    }
   ],
   "source": [
    "FE  = selection(u, 'FE', sel_type='at_name')\n",
    "OH1 = selection(u, 8787, sel_type='at_num')\n",
    "\n",
    "C12 = selection(u, 8814, sel_type='at_num')\n",
    "H12 = selection(u, [8815, 8816], sel_type='at_num')\n",
    "\n",
    "C9  = selection(u, 8807, sel_type='at_num')\n",
    "H9  = selection(u, [8808, 8809], sel_type='at_num')\n",
    "\n",
    "C15 = selection(u, 8821, sel_type='at_num')\n",
    "H15 = selection(u, [8822, 8823], sel_type='at_num')"
   ]
  },
  {
   "cell_type": "markdown",
   "metadata": {},
   "source": [
    "# Step 3 \n",
    "## 2-steps analysis\n",
    "\n",
    "1. Create the arrays for distance, angles, etc. values. \n",
    "2. Loop over the trajectory and define the analysis that will be done."
   ]
  },
  {
   "cell_type": "code",
   "execution_count": 22,
   "metadata": {},
   "outputs": [],
   "source": [
    "dist_C12 = []; dist_H12 = []\n",
    "bool_C12 = []; bool_H12 = []"
   ]
  },
  {
   "cell_type": "code",
   "execution_count": 23,
   "metadata": {},
   "outputs": [
    {
     "ename": "NameError",
     "evalue": "name 'dist' is not defined",
     "output_type": "error",
     "traceback": [
      "\u001b[0;31m---------------------------------------------------------------------------\u001b[0m",
      "\u001b[0;31mNameError\u001b[0m                                 Traceback (most recent call last)",
      "\u001b[0;32m<ipython-input-23-6bd9f0306180>\u001b[0m in \u001b[0;36m<module>\u001b[0;34m\u001b[0m\n\u001b[1;32m      1\u001b[0m \u001b[0;32mfor\u001b[0m \u001b[0mts\u001b[0m \u001b[0;32min\u001b[0m \u001b[0mu\u001b[0m\u001b[0;34m.\u001b[0m\u001b[0mtrajectory\u001b[0m\u001b[0;34m:\u001b[0m\u001b[0;34m\u001b[0m\u001b[0;34m\u001b[0m\u001b[0m\n\u001b[0;32m----> 2\u001b[0;31m     \u001b[0mdist\u001b[0m\u001b[0;34m.\u001b[0m\u001b[0mappend\u001b[0m\u001b[0;34m(\u001b[0m\u001b[0;34m)\u001b[0m\u001b[0;34m\u001b[0m\u001b[0;34m\u001b[0m\u001b[0m\n\u001b[0m",
      "\u001b[0;31mNameError\u001b[0m: name 'dist' is not defined"
     ]
    }
   ],
   "source": [
    "for ts in u.trajectory:\n",
    "    dist.append()"
   ]
  },
  {
   "cell_type": "code",
   "execution_count": null,
   "metadata": {},
   "outputs": [],
   "source": []
  }
 ],
 "metadata": {
  "kernelspec": {
   "display_name": "Python 3",
   "language": "python",
   "name": "python3"
  }
 },
 "nbformat": 4,
 "nbformat_minor": 4
}
